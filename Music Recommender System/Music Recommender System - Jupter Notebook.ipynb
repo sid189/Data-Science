{
 "cells": [
  {
   "cell_type": "code",
   "execution_count": 1,
   "metadata": {
    "collapsed": true
   },
   "outputs": [],
   "source": [
    "import findspark\n",
    "findspark.init()\n",
    "\n",
    "from pyspark.mllib.recommendation import *\n",
    "import random\n",
    "from operator import *\n",
    "from collections import defaultdict"
   ]
  },
  {
   "cell_type": "code",
   "execution_count": 2,
   "metadata": {
    "collapsed": true
   },
   "outputs": [],
   "source": [
    "from pyspark import SparkContext"
   ]
  },
  {
   "cell_type": "code",
   "execution_count": 3,
   "metadata": {
    "collapsed": true
   },
   "outputs": [],
   "source": [
    "sc = SparkContext('local', 'a2')"
   ]
  },
  {
   "cell_type": "code",
   "execution_count": 4,
   "metadata": {
    "collapsed": true
   },
   "outputs": [],
   "source": [
    "artistData=sc.textFile('artist_data_small.txt')"
   ]
  },
  {
   "cell_type": "code",
   "execution_count": 5,
   "metadata": {
    "collapsed": true
   },
   "outputs": [],
   "source": [
    "artistAlias=sc.textFile('artist_alias_small.txt')"
   ]
  },
  {
   "cell_type": "code",
   "execution_count": 6,
   "metadata": {
    "collapsed": true
   },
   "outputs": [],
   "source": [
    "userArtist=sc.textFile('user_artist_data_small.txt')"
   ]
  },
  {
   "cell_type": "code",
   "execution_count": 7,
   "metadata": {
    "collapsed": true
   },
   "outputs": [],
   "source": [
    "artistData1=artistData.map(lambda x: x.split(\"\\t\"))"
   ]
  },
  {
   "cell_type": "code",
   "execution_count": 8,
   "metadata": {
    "collapsed": true
   },
   "outputs": [],
   "source": [
    "artistAlias1=artistAlias.map(lambda x: x.split(\"\\t\"))"
   ]
  },
  {
   "cell_type": "code",
   "execution_count": 10,
   "metadata": {},
   "outputs": [],
   "source": [
    "userArtistData1=userArtist.map(lambda x: x.split(\" \"))"
   ]
  },
  {
   "cell_type": "code",
   "execution_count": 12,
   "metadata": {},
   "outputs": [],
   "source": [
    "artistData2=artistData1.map(lambda x: (int(x[0]), x[1]))\n",
    "artistAlias2=artistAlias1.map(lambda x: (int(x[0]), x[1]))\n",
    "userArtistData2=userArtistData1.map(lambda x: (int(x[0]),int(x[1]), int(x[2])))"
   ]
  },
  {
   "cell_type": "code",
   "execution_count": 20,
   "metadata": {},
   "outputs": [
    {
     "name": "stdout",
     "output_type": "stream",
     "text": [
      "User 1059637 has a total play count of 674412 and a mean count of 1878\n",
      "User 2064012 has a total play count of 548427 and a mean count of 9455\n",
      "User 2069337 has a total play count of 393515 and a mean count of 1519\n"
     ]
    }
   ],
   "source": [
    "uad=userArtistData2.map(lambda x: (x[0], (x[1], x[2]))).groupByKey()\n",
    "userArtistDict=uad.map(lambda x: (x[0], dict(x[1])))\n",
    "dictcalc=userArtistDict.map(lambda x: (x[0], sum(x[1].values()), sum(x[1].values())/len(x[1])))\n",
    "top3=dictcalc.sortBy(keyfunc=lambda x: x[1], ascending=False).take(3)\n",
    "print(\"User \"+ str(top3[0][0])+\" has a total play count of \"+str(top3[0][1])+\" and a mean count of \"+str(int(top3[0][2])))\n",
    "print(\"User \"+ str(top3[1][0])+\" has a total play count of \"+str(top3[1][1])+\" and a mean count of \"+str(int(top3[1][2])))\n",
    "print(\"User \"+ str(top3[2][0])+\" has a total play count of \"+str(top3[2][1])+\" and a mean count of \"+str(int(top3[2][2])))"
   ]
  },
  {
   "cell_type": "code",
   "execution_count": 23,
   "metadata": {},
   "outputs": [
    {
     "data": {
      "text/plain": [
       "PythonRDD[32] at RDD at PythonRDD.scala:48"
      ]
     },
     "execution_count": 23,
     "metadata": {},
     "output_type": "execute_result"
    }
   ],
   "source": [
    "trainData, validateData, testData = userArtistData2.randomSplit([4, 4, 2], 13)\n",
    "trainData.cache()\n",
    "testData.cache()\n",
    "validateData.cache()"
   ]
  },
  {
   "cell_type": "code",
   "execution_count": 25,
   "metadata": {},
   "outputs": [
    {
     "data": {
      "text/plain": [
       "[(1059637, 1000049, 1), (1059637, 1000056, 1), (1059637, 1000114, 2)]"
      ]
     },
     "execution_count": 25,
     "metadata": {},
     "output_type": "execute_result"
    }
   ],
   "source": [
    "trainData.take(3)"
   ]
  },
  {
   "cell_type": "code",
   "execution_count": 26,
   "metadata": {},
   "outputs": [
    {
     "data": {
      "text/plain": [
       "[(1059637, 1000010, 238), (1059637, 1000062, 11), (1059637, 1000123, 2)]"
      ]
     },
     "execution_count": 26,
     "metadata": {},
     "output_type": "execute_result"
    }
   ],
   "source": [
    "validateData.take(3)"
   ]
  },
  {
   "cell_type": "code",
   "execution_count": 27,
   "metadata": {},
   "outputs": [
    {
     "data": {
      "text/plain": [
       "[(1059637, 1000094, 1), (1059637, 1000112, 423), (1059637, 1000113, 5)]"
      ]
     },
     "execution_count": 27,
     "metadata": {},
     "output_type": "execute_result"
    }
   ],
   "source": [
    "testData.take(3)"
   ]
  },
  {
   "cell_type": "code",
   "execution_count": 28,
   "metadata": {},
   "outputs": [
    {
     "data": {
      "text/plain": [
       "19761"
      ]
     },
     "execution_count": 28,
     "metadata": {},
     "output_type": "execute_result"
    }
   ],
   "source": [
    "trainData.count()"
   ]
  },
  {
   "cell_type": "code",
   "execution_count": 29,
   "metadata": {},
   "outputs": [
    {
     "data": {
      "text/plain": [
       "19862"
      ]
     },
     "execution_count": 29,
     "metadata": {},
     "output_type": "execute_result"
    }
   ],
   "source": [
    "validateData.count()"
   ]
  },
  {
   "cell_type": "code",
   "execution_count": 30,
   "metadata": {},
   "outputs": [
    {
     "data": {
      "text/plain": [
       "9858"
      ]
     },
     "execution_count": 30,
     "metadata": {},
     "output_type": "execute_result"
    }
   ],
   "source": [
    "testData.count()"
   ]
  },
  {
   "cell_type": "code",
   "execution_count": 59,
   "metadata": {},
   "outputs": [],
   "source": [
    "def modelEval(model, dataset):\n",
    "    artistlist=userArtistData2.map(lambda x: (x[1])).distinct()\n",
    "    user1=userArtistData2.map(lambda x: (x[0])).distinct()\n",
    "    userlist=user1.collect()\n",
    "    user2=user1.cartesian(artistlist)\n",
    "\n",
    "    training = trainData.map(lambda r : (r[0], r[1])).distinct()\n",
    "    pred = user2.subtract(training)\n",
    "    \n",
    "    predict = model.predictAll(pred)\n",
    "    tot=0.0\n",
    "    \n",
    "    valtest= dataset.map(lambda r: (r[0], r[1])).distinct()\n",
    "    \n",
    "    for user in userlist:\n",
    "        train1 = predict.filter(lambda x : x[0] == user)\n",
    "        valtest1 = valtest.filter(lambda x : x[0] == user)\n",
    "        topx = sc.parallelize(train1.takeOrdered(valtest1.count(), lambda x: -x[2])).map(lambda x: (x[0], x[1]))\n",
    "\n",
    "        mat = topx.intersection(valtest1)\n",
    "        tot += float(mat.count())/float(valtest1.count())\n",
    "    return (tot/user1.count())"
   ]
  },
  {
   "cell_type": "code",
   "execution_count": null,
   "metadata": {},
   "outputs": [],
   "source": [
    "rankList = [2,10,20]\n",
    "for r in rankList:\n",
    "    model = ALS.trainImplicit(trainData, rank=r, seed=345)\n",
    "    me=modelEval(model,validateData)\n",
    "    print(\"The model score for rank \" + str(r) + \" is \" + str(me))"
   ]
  },
  {
   "cell_type": "code",
   "execution_count": null,
   "metadata": {},
   "outputs": [],
   "source": [
    "bestModel = ALS.trainImplicit(trainData, rank=10, seed=345)\n",
    "modelEval(bestModel, testData)"
   ]
  },
  {
   "cell_type": "code",
   "execution_count": 55,
   "metadata": {},
   "outputs": [
    {
     "name": "stdout",
     "output_type": "stream",
     "text": [
      "Artist 0: My Chemical Romance\n",
      "Artist 1: Something Corporate\n",
      "Artist 2: Evanescence\n",
      "Artist 3: Alanis Morissette\n",
      "Artist 4: Counting Crows\n"
     ]
    }
   ],
   "source": [
    "recofive=bestModel.recommendProducts(1059637, 5)\n",
    "count=0\n",
    "for art in recofive:\n",
    "    print(\"Artist \"+ str(count) + \": \" + artistData1.collectAsMap().get(str(art[1])))\n",
    "    count=count+1"
   ]
  },
  {
   "cell_type": "code",
   "execution_count": null,
   "metadata": {
    "collapsed": true
   },
   "outputs": [],
   "source": []
  }
 ],
 "metadata": {
  "kernelspec": {
   "display_name": "Python 3",
   "language": "python",
   "name": "python3"
  },
  "language_info": {
   "codemirror_mode": {
    "name": "ipython",
    "version": 3
   },
   "file_extension": ".py",
   "mimetype": "text/x-python",
   "name": "python",
   "nbconvert_exporter": "python",
   "pygments_lexer": "ipython3",
   "version": "3.5.2"
  }
 },
 "nbformat": 4,
 "nbformat_minor": 2
}
